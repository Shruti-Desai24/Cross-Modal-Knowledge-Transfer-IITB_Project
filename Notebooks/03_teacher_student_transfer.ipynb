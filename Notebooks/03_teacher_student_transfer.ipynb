{
 "cells": [
  {
   "cell_type": "code",
   "execution_count": 1,
   "id": "ef77b037",
   "metadata": {},
   "outputs": [],
   "source": [
    "import os\n",
    "import joblib\n",
    "import numpy as np\n",
    "import pandas as pd\n",
    "from sklearn.model_selection import train_test_split\n",
    "from sklearn.ensemble import RandomForestClassifier\n",
    "from sklearn.metrics import accuracy_score, f1_score"
   ]
  },
  {
   "cell_type": "code",
   "execution_count": 2,
   "id": "5c1209d4",
   "metadata": {},
   "outputs": [],
   "source": [
    "DATASET_PATH = r\"C:\\Users\\LENOVO\\Desktop\\ByteBuzz\\Data\\final_dataset.csv\"\n",
    "MODEL_DIR = \"C:/Users/LENOVO/Desktop/ByteBuzz/Models/\"\n",
    "\n",
    "TEACHER_MODEL = \"teacher_eeg_xgb.pkl\"\n",
    "\n",
    "# Student models (baseline trained in 02 notebook)\n",
    "STUDENT_MODELS = {\n",
    "    \"eye\": \"student_eye_rf.pkl\",\n",
    "    \"gsr\": \"student_gsr_rf.pkl\",\n",
    "    \"tiva\": \"student_tiva_rf.pkl\"\n",
    "}"
   ]
  },
  {
   "cell_type": "code",
   "execution_count": 3,
   "id": "82973696",
   "metadata": {},
   "outputs": [
    {
     "name": "stdout",
     "output_type": "stream",
     "text": [
      "✅ Dataset loaded: (1448, 28)\n"
     ]
    }
   ],
   "source": [
    "# 3. Load dataset\n",
    "df = pd.read_csv(DATASET_PATH)\n",
    "print(\"✅ Dataset loaded:\", df.shape)\n",
    "\n",
    "# Separate labels and features\n",
    "y = df[\"Label\"]\n",
    "X = df.drop(columns=[\"StudentID\", \"TrialID\", \"Label\"])\n"
   ]
  },
  {
   "cell_type": "code",
   "execution_count": 4,
   "id": "4cffe1d4",
   "metadata": {},
   "outputs": [
    {
     "name": "stdout",
     "output_type": "stream",
     "text": [
      "Feature counts per modality:\n",
      "EEG: 7\n",
      "EYE: 3\n",
      "GSR: 4\n",
      "IVT: 6\n",
      "TIVA: 5\n"
     ]
    }
   ],
   "source": [
    "# 4. Group features by modality\n",
    "modalities = {\n",
    "    \"EEG\": [c for c in X.columns if c.startswith(\"EEG_PC\")],\n",
    "    \"EYE\": [c for c in X.columns if c.startswith(\"EYE_PC\")],\n",
    "    \"GSR\": [c for c in X.columns if c.startswith(\"GSR_PC\")],\n",
    "    \"IVT\": [c for c in X.columns if c.startswith(\"IVT_PC\")],\n",
    "    \"TIVA\": [c for c in X.columns if c.startswith(\"TIVA_PC\")]\n",
    "}\n",
    "\n",
    "print(\"Feature counts per modality:\")\n",
    "for m, cols in modalities.items():\n",
    "    print(f\"{m}: {len(cols)}\")\n",
    "\n",
    "# 5. Train/Test split\n",
    "X_train, X_test, y_train, y_test = train_test_split(\n",
    "    X, y, test_size=0.2, random_state=42, stratify=y\n",
    ")"
   ]
  },
  {
   "cell_type": "code",
   "execution_count": 5,
   "id": "7c379449",
   "metadata": {},
   "outputs": [
    {
     "name": "stdout",
     "output_type": "stream",
     "text": [
      "Teacher model loaded and soft predictions generated.\n",
      "\n",
      "--- Training Student (EYE) with KD ---\n",
      "Saved KD EYE student → C:/Users/LENOVO/Desktop/ByteBuzz/Models/student_eye_kd.pkl\n",
      "\n",
      "--- Training Student (GSR) with KD ---\n",
      "Saved KD GSR student → C:/Users/LENOVO/Desktop/ByteBuzz/Models/student_gsr_kd.pkl\n",
      "\n",
      "--- Training Student (TIVA) with KD ---\n",
      "Saved KD TIVA student → C:/Users/LENOVO/Desktop/ByteBuzz/Models/student_tiva_kd.pkl\n"
     ]
    }
   ],
   "source": [
    "# 6. Load Teacher (EEG model)\n",
    "teacher = joblib.load(os.path.join(MODEL_DIR, TEACHER_MODEL))\n",
    "\n",
    "eeg_features = modalities[\"EEG\"]\n",
    "teacher_probs_train = teacher.predict_proba(X_train[eeg_features])\n",
    "teacher_probs_test = teacher.predict_proba(X_test[eeg_features])\n",
    "print(\"Teacher model loaded and soft predictions generated.\")\n",
    "\n",
    "# 7. Knowledge Distillation for Students\n",
    "results = {}\n",
    "\n",
    "for modality, model_file in STUDENT_MODELS.items():\n",
    "    feats = modalities[modality.upper()]\n",
    "    if len(feats) == 0:\n",
    "        print(f\" No features found for {modality.upper()} → skipping.\")\n",
    "        continue\n",
    "\n",
    "    print(f\"\\n--- Training Student ({modality.upper()}) with KD ---\")\n",
    "\n",
    "    X_train_mod = X_train[feats]\n",
    "    X_test_mod = X_test[feats]\n",
    "\n",
    "    student = joblib.load(os.path.join(MODEL_DIR, model_file))\n",
    "\n",
    "    # KD labels (mix of true labels + teacher soft labels)\n",
    "    alpha = 0.5  \n",
    "    y_soft = np.argmax(\n",
    "        (alpha * pd.get_dummies(y_train).values) + (1 - alpha) * teacher_probs_train,\n",
    "        axis=1\n",
    "    )\n",
    "\n",
    "    # Retrain student with KD labels\n",
    "    student.fit(X_train_mod, y_soft)\n",
    "\n",
    "    # Evaluate\n",
    "    y_pred = student.predict(X_test_mod)\n",
    "    acc = accuracy_score(y_test, y_pred)\n",
    "    f1 = f1_score(y_test, y_pred, average=\"weighted\")\n",
    "\n",
    "    results[modality] = {\"Acc\": acc, \"F1\": f1}\n",
    "\n",
    "    kd_model_file = os.path.join(MODEL_DIR, f\"student_{modality}_kd.pkl\")\n",
    "    joblib.dump(student, kd_model_file)\n",
    "\n",
    "    print(f\"Saved KD {modality.upper()} student → {kd_model_file}\")\n"
   ]
  },
  {
   "cell_type": "code",
   "execution_count": 6,
   "id": "d9efcaeb",
   "metadata": {},
   "outputs": [
    {
     "name": "stdout",
     "output_type": "stream",
     "text": [
      "\n",
      "=== Final KD Student Results ===\n",
      "EYE    | Acc: 0.724 | F1: 0.659\n",
      "GSR    | Acc: 0.748 | F1: 0.702\n",
      "TIVA   | Acc: 0.734 | F1: 0.689\n"
     ]
    }
   ],
   "source": [
    "print(\"\\n=== Final KD Student Results ===\")\n",
    "for mod, metrics in results.items():\n",
    "    print(f\"{mod.upper():<6} | Acc: {metrics['Acc']:.3f} | F1: {metrics['F1']:.3f}\")"
   ]
  }
 ],
 "metadata": {
  "kernelspec": {
   "display_name": "Python 3 (ipykernel)",
   "language": "python",
   "name": "python3"
  },
  "language_info": {
   "codemirror_mode": {
    "name": "ipython",
    "version": 3
   },
   "file_extension": ".py",
   "mimetype": "text/x-python",
   "name": "python",
   "nbconvert_exporter": "python",
   "pygments_lexer": "ipython3",
   "version": "3.11.5"
  }
 },
 "nbformat": 4,
 "nbformat_minor": 5
}
