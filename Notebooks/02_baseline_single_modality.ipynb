{
 "cells": [
  {
   "cell_type": "code",
   "execution_count": 1,
   "id": "e21c0ce9",
   "metadata": {},
   "outputs": [],
   "source": [
    "import os\n",
    "import joblib\n",
    "import pandas as pd\n",
    "from sklearn.model_selection import train_test_split\n",
    "from sklearn.metrics import accuracy_score, f1_score\n",
    "from xgboost import XGBClassifier\n",
    "from sklearn.ensemble import RandomForestClassifier\n",
    "import warnings\n",
    "warnings.filterwarnings(\"ignore\")"
   ]
  },
  {
   "cell_type": "code",
   "execution_count": 2,
   "id": "2c63ccd0",
   "metadata": {},
   "outputs": [
    {
     "name": "stdout",
     "output_type": "stream",
     "text": [
      " Dataset loaded: (1448, 28)\n"
     ]
    }
   ],
   "source": [
    "DATASET_PATH = \"C:/Users/LENOVO/Desktop/ByteBuzz/Data/final_dataset.csv\"\n",
    "MODEL_DIR = \"C:/Users/LENOVO/Desktop/ByteBuzz/Models/\"\n",
    "os.makedirs(MODEL_DIR, exist_ok=True)\n",
    "\n",
    "# Load dataset\n",
    "df = pd.read_csv(DATASET_PATH)\n",
    "print(\" Dataset loaded:\", df.shape)\n",
    "\n",
    "y = df[\"Label\"]\n",
    "X = df.drop(columns=[\"StudentID\", \"TrialID\", \"Label\"])"
   ]
  },
  {
   "cell_type": "markdown",
   "id": "1d2687c1",
   "metadata": {},
   "source": [
    "Group features by modality"
   ]
  },
  {
   "cell_type": "code",
   "execution_count": 3,
   "id": "15f83455",
   "metadata": {},
   "outputs": [
    {
     "name": "stdout",
     "output_type": "stream",
     "text": [
      "Feature counts per modality:\n",
      "EEG: 7\n",
      "EYE: 3\n",
      "GSR: 4\n",
      "IVT: 6\n",
      "TIVA: 5\n"
     ]
    }
   ],
   "source": [
    "modalities = {\n",
    "    \"EEG\": [c for c in X.columns if c.startswith(\"EEG_PC\")],\n",
    "    \"EYE\": [c for c in X.columns if c.startswith(\"EYE_PC\")],\n",
    "    \"GSR\": [c for c in X.columns if c.startswith(\"GSR_PC\")],\n",
    "    \"IVT\": [c for c in X.columns if c.startswith(\"IVT_PC\")],\n",
    "    \"TIVA\": [c for c in X.columns if c.startswith(\"TIVA_PC\")]\n",
    "}\n",
    "\n",
    "print(\"Feature counts per modality:\")\n",
    "for m, cols in modalities.items():\n",
    "    print(f\"{m}: {len(cols)}\")"
   ]
  },
  {
   "cell_type": "code",
   "execution_count": 4,
   "id": "778c8590",
   "metadata": {},
   "outputs": [],
   "source": [
    "# 5. Train/Test split \n",
    "X_train, X_test, y_train, y_test = train_test_split(\n",
    "    X, y, test_size=0.2, random_state=42, stratify=y\n",
    ")\n"
   ]
  },
  {
   "cell_type": "markdown",
   "id": "931b01d8",
   "metadata": {},
   "source": [
    "#Baseline models"
   ]
  },
  {
   "cell_type": "code",
   "execution_count": 5,
   "id": "918b36dc",
   "metadata": {},
   "outputs": [
    {
     "name": "stdout",
     "output_type": "stream",
     "text": [
      "\n",
      "--- Training EEG Teacher (XGBoost) ---\n",
      "EEG Teacher saved → C:/Users/LENOVO/Desktop/ByteBuzz/Models/teacher_eeg_xgb.pkl\n"
     ]
    }
   ],
   "source": [
    "\n",
    "results = {}\n",
    "\n",
    "# Teacher (EEG → XGBoost)\n",
    "if len(modalities[\"EEG\"]) > 0:\n",
    "    print(\"\\n--- Training EEG Teacher (XGBoost) ---\")\n",
    "    eeg_X_train, eeg_X_test = X_train[modalities[\"EEG\"]], X_test[modalities[\"EEG\"]]\n",
    "\n",
    "    teacher = XGBClassifier(\n",
    "        n_estimators=200, max_depth=5, learning_rate=0.05, random_state=42\n",
    "    )\n",
    "    teacher.fit(eeg_X_train, y_train)\n",
    "\n",
    "    y_pred = teacher.predict(eeg_X_test)\n",
    "    acc = accuracy_score(y_test, y_pred)\n",
    "    f1 = f1_score(y_test, y_pred, average=\"weighted\")\n",
    "    results[\"EEG\"] = {\"Acc\": acc, \"F1\": f1}\n",
    "\n",
    "    # Save model\n",
    "    joblib.dump(teacher, os.path.join(MODEL_DIR, \"teacher_eeg_xgb.pkl\"))\n",
    "    print(f\"EEG Teacher saved → {MODEL_DIR}teacher_eeg_xgb.pkl\")\n"
   ]
  },
  {
   "cell_type": "markdown",
   "id": "afbf054b",
   "metadata": {},
   "source": [
    "#Students (Random Forest for EYE, GSR, TIVA"
   ]
  },
  {
   "cell_type": "code",
   "execution_count": 6,
   "id": "e06bfc12",
   "metadata": {},
   "outputs": [
    {
     "name": "stdout",
     "output_type": "stream",
     "text": [
      "\n",
      "--- Training EYE Student (RandomForest) ---\n",
      " EYE Student saved → C:/Users/LENOVO/Desktop/ByteBuzz/Models/student_eye_rf.pkl\n",
      "\n",
      "--- Training GSR Student (RandomForest) ---\n",
      " GSR Student saved → C:/Users/LENOVO/Desktop/ByteBuzz/Models/student_gsr_rf.pkl\n",
      "\n",
      "--- Training TIVA Student (RandomForest) ---\n",
      " TIVA Student saved → C:/Users/LENOVO/Desktop/ByteBuzz/Models/student_tiva_rf.pkl\n"
     ]
    }
   ],
   "source": [
    "for modality in [\"EYE\", \"GSR\", \"TIVA\"]:\n",
    "    feats = modalities[modality]\n",
    "    if len(feats) == 0:\n",
    "        print(f\" No features found for {modality}, skipping...\")\n",
    "        continue\n",
    "\n",
    "    print(f\"\\n--- Training {modality} Student (RandomForest) ---\")\n",
    "    X_train_mod, X_test_mod = X_train[feats], X_test[feats]\n",
    "\n",
    "    student = RandomForestClassifier(n_estimators=200, random_state=42)\n",
    "    student.fit(X_train_mod, y_train)\n",
    "\n",
    "    y_pred = student.predict(X_test_mod)\n",
    "    acc = accuracy_score(y_test, y_pred)\n",
    "    f1 = f1_score(y_test, y_pred, average=\"weighted\")\n",
    "    results[modality] = {\"Acc\": acc, \"F1\": f1}\n",
    "\n",
    "    # Save model\n",
    "    joblib.dump(student, os.path.join(MODEL_DIR, f\"student_{modality.lower()}_rf.pkl\"))\n",
    "    print(f\" {modality} Student saved → {MODEL_DIR}student_{modality.lower()}_rf.pkl\")"
   ]
  },
  {
   "cell_type": "code",
   "execution_count": 7,
   "id": "d59fa746",
   "metadata": {},
   "outputs": [
    {
     "name": "stdout",
     "output_type": "stream",
     "text": [
      "\n",
      "=== Baseline Results ===\n",
      "EEG    | Acc: 0.748 | F1: 0.667\n",
      "EYE    | Acc: 0.724 | F1: 0.659\n",
      "GSR    | Acc: 0.748 | F1: 0.702\n",
      "TIVA   | Acc: 0.734 | F1: 0.689\n"
     ]
    }
   ],
   "source": [
    "print(\"\\n=== Baseline Results ===\")\n",
    "for mod, metrics in results.items():\n",
    "    print(f\"{mod:<6} | Acc: {metrics['Acc']:.3f} | F1: {metrics['F1']:.3f}\")"
   ]
  }
 ],
 "metadata": {
  "kernelspec": {
   "display_name": "Python 3 (ipykernel)",
   "language": "python",
   "name": "python3"
  },
  "language_info": {
   "codemirror_mode": {
    "name": "ipython",
    "version": 3
   },
   "file_extension": ".py",
   "mimetype": "text/x-python",
   "name": "python",
   "nbconvert_exporter": "python",
   "pygments_lexer": "ipython3",
   "version": "3.11.5"
  }
 },
 "nbformat": 4,
 "nbformat_minor": 5
}
