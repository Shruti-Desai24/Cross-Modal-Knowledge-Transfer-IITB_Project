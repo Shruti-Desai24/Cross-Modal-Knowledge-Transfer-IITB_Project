{
 "cells": [
  {
   "cell_type": "code",
   "execution_count": 1,
   "id": "48c03564",
   "metadata": {},
   "outputs": [],
   "source": [
    "import os\n",
    "import pandas as pd\n",
    "import numpy as np\n",
    "from scipy.signal import find_peaks\n",
    "from sklearn.preprocessing import StandardScaler\n",
    "import warnings\n",
    "warnings.filterwarnings(\"ignore\")"
   ]
  },
  {
   "cell_type": "code",
   "execution_count": 2,
   "id": "a348b045",
   "metadata": {},
   "outputs": [],
   "source": [
    "BASE_PATH = r\"C:\\Users\\LENOVO\\Desktop\\ByteBuzz\\Data\\STData\"\n",
    "OUTPUT_FILE = \"Processed_dataset.csv\""
   ]
  },
  {
   "cell_type": "markdown",
   "id": "4d434570",
   "metadata": {},
   "source": [
    "#Helpers"
   ]
  },
  {
   "cell_type": "code",
   "execution_count": 3,
   "id": "5f73f18d",
   "metadata": {},
   "outputs": [],
   "source": [
    "def safe_read(path):\n",
    "    if not os.path.exists(path):\n",
    "        return None\n",
    "    try:\n",
    "        return pd.read_csv(path)\n",
    "    except Exception:\n",
    "        return None\n",
    "\n",
    "def to_numeric_cols(df, cols):\n",
    "    for c in cols:\n",
    "        if c in df.columns:\n",
    "            df[c] = pd.to_numeric(df[c], errors=\"coerce\")"
   ]
  },
  {
   "cell_type": "markdown",
   "id": "40ce1d79",
   "metadata": {},
   "source": [
    "# Feature functions"
   ]
  },
  {
   "cell_type": "code",
   "execution_count": 4,
   "id": "7cf83f71",
   "metadata": {},
   "outputs": [],
   "source": [
    "def eeg_features(df):\n",
    "    feats = {}\n",
    "    if df is None or df.empty: return feats\n",
    "    bands = [\"Delta\",\"Theta\",\"Alpha\",\"Beta\",\"Gamma\"]\n",
    "    for band in bands:\n",
    "        cols = [c for c in df.columns if band in c]\n",
    "        if cols:\n",
    "            to_numeric_cols(df, cols)\n",
    "            feats[f\"EEG_{band}_mean\"] = df[cols].mean().mean(skipna=True)\n",
    "            feats[f\"EEG_{band}_var\"]  = df[cols].var().mean(skipna=True)\n",
    "    if \"EEG_Theta_mean\" in feats and \"EEG_Alpha_mean\" in feats:\n",
    "        feats[\"EEG_Theta_Alpha\"] = feats[\"EEG_Theta_mean\"] / (feats[\"EEG_Alpha_mean\"] + 1e-9)\n",
    "    if \"EEG_Beta_mean\" in feats and \"EEG_Alpha_mean\" in feats:\n",
    "        feats[\"EEG_Beta_Alpha\"] = feats[\"EEG_Beta_mean\"] / (feats[\"EEG_Alpha_mean\"] + 1e-9)\n",
    "    return feats\n",
    "\n",
    "def gsr_features(df):\n",
    "    feats = {}\n",
    "    if df is None or df.empty: return feats\n",
    "    if \"GSR Conductance CAL\" in df.columns:\n",
    "        sig = pd.to_numeric(df[\"GSR Conductance CAL\"], errors=\"coerce\").dropna()\n",
    "        if len(sig) > 0:\n",
    "            feats[\"GSR_mean\"] = sig.mean()\n",
    "            feats[\"GSR_std\"]  = sig.std()\n",
    "            feats[\"GSR_slope\"] = (sig.iloc[-1] - sig.iloc[0]) / max(len(sig),1)\n",
    "            peaks, _ = find_peaks(sig.values, height=(sig.mean() + sig.std()))\n",
    "            feats[\"GSR_peaks\"] = len(peaks)\n",
    "    return feats\n",
    "\n",
    "def eye_features(df):\n",
    "    feats = {}\n",
    "    if df is None or df.empty: return feats\n",
    "    if \"ET_PupilLeft\" in df.columns and \"ET_PupilRight\" in df.columns:\n",
    "        pl = pd.to_numeric(df[\"ET_PupilLeft\"], errors=\"coerce\")\n",
    "        pr = pd.to_numeric(df[\"ET_PupilRight\"], errors=\"coerce\")\n",
    "        pup = (pl + pr) / 2.0\n",
    "        feats[\"Pupil_mean\"] = pup.mean(skipna=True)\n",
    "        feats[\"Pupil_std\"]  = pup.std(skipna=True)\n",
    "    gx = [c for c in df.columns if \"ET_Gaze\" in c and \"x\" in c.lower()]\n",
    "    gy = [c for c in df.columns if \"ET_Gaze\" in c and \"y\" in c.lower()]\n",
    "    if gx:\n",
    "        to_numeric_cols(df, gx)\n",
    "        feats[\"GazeX_std\"] = df[gx].std().mean(skipna=True)\n",
    "    if gy:\n",
    "        to_numeric_cols(df, gy)\n",
    "        feats[\"GazeY_std\"] = df[gy].std().mean(skipna=True)\n",
    "    return feats\n",
    "\n",
    "def ivt_features(df):\n",
    "    feats = {}\n",
    "    if df is None or df.empty: return feats\n",
    "    if \"Fixation Index\" in df.columns:\n",
    "        feats[\"fixation_count\"] = df[\"Fixation Index\"].nunique()\n",
    "    if \"Fixation Duration\" in df.columns:\n",
    "        vals = pd.to_numeric(df[\"Fixation Duration\"], errors=\"coerce\")\n",
    "        feats[\"fixation_duration_mean\"] = vals.mean()\n",
    "        feats[\"fixation_duration_std\"]  = vals.std()\n",
    "    if \"Fixation Dispersion\" in df.columns:\n",
    "        feats[\"fixation_dispersion_mean\"] = pd.to_numeric(df[\"Fixation Dispersion\"], errors=\"coerce\").mean()\n",
    "    if \"Saccade Index\" in df.columns:\n",
    "        feats[\"saccade_count\"] = df[\"Saccade Index\"].nunique()\n",
    "    if \"Saccade Duration\" in df.columns:\n",
    "        vals = pd.to_numeric(df[\"Saccade Duration\"], errors=\"coerce\")\n",
    "        feats[\"saccade_duration_mean\"] = vals.mean()\n",
    "        feats[\"saccade_duration_std\"]  = vals.std()\n",
    "    if \"Saccade Amplitude\" in df.columns:\n",
    "        vals = pd.to_numeric(df[\"Saccade Amplitude\"], errors=\"coerce\")\n",
    "        feats[\"saccade_amplitude_mean\"] = vals.mean()\n",
    "        feats[\"saccade_amplitude_std\"]  = vals.std()\n",
    "    if \"Saccade Peak Velocity\" in df.columns:\n",
    "        vals = pd.to_numeric(df[\"Saccade Peak Velocity\"], errors=\"coerce\")\n",
    "        feats[\"saccade_velocity_mean\"] = vals.mean()\n",
    "        feats[\"saccade_velocity_std\"]  = vals.std()\n",
    "    return feats\n",
    "\n",
    "def tiva_features(df):\n",
    "    feats = {}\n",
    "    if df is None or df.empty: return feats\n",
    "    emotions = [\"Engagement\",\"Valence\",\"Attention\",\"Joy\",\"Sadness\",\"Anger\",\"Fear\",\"Surprise\",\"Neutral\"]\n",
    "    for c in emotions:\n",
    "        if c in df.columns:\n",
    "            vals = pd.to_numeric(df[c], errors=\"coerce\").dropna()\n",
    "            if len(vals) > 0:\n",
    "                feats[f\"TIVA_{c}_mean\"] = vals.mean()\n",
    "    return feats\n",
    "\n",
    "def psy_features(df):\n",
    "    feats = {}\n",
    "    if df is None or df.empty: return feats\n",
    "    if \"Difficulty\" in df.columns:\n",
    "        feats[\"Difficulty_mean\"] = pd.to_numeric(df[\"Difficulty\"], errors=\"coerce\").mean()\n",
    "    if \"ResponseTime\" in df.columns:\n",
    "        feats[\"ResponseTime_mean\"] = pd.to_numeric(df[\"ResponseTime\"], errors=\"coerce\").mean()\n",
    "    if \"verdict\" in df.columns:\n",
    "        vals = df[\"verdict\"].astype(str).str.lower().str.strip()\n",
    "        correct = (vals == \"correct\").sum()\n",
    "        incorrect = (vals == \"incorrect\").sum()\n",
    "        feats[\"Label\"] = 1 if correct >= incorrect else 0\n",
    "    return feats\n"
   ]
  },
  {
   "cell_type": "markdown",
   "id": "ab936545",
   "metadata": {},
   "source": [
    "# Main loop"
   ]
  },
  {
   "cell_type": "code",
   "execution_count": 5,
   "id": "26016419",
   "metadata": {},
   "outputs": [
    {
     "name": "stdout",
     "output_type": "stream",
     "text": [
      "✅ Saved Processed_dataset.csv with shape (1448, 45)\n"
     ]
    }
   ],
   "source": [
    "rows = []\n",
    "students = sorted([d for d in os.listdir(BASE_PATH) if d.isdigit()], key=lambda x: int(x))\n",
    "\n",
    "for student in students:\n",
    "    folder = os.path.join(BASE_PATH, student)\n",
    "    sid = int(student)\n",
    "\n",
    "    eeg  = safe_read(os.path.join(folder, f\"{student}_EEG.csv\"))\n",
    "    gsr  = safe_read(os.path.join(folder, f\"{student}_GSR.csv\"))\n",
    "    eye  = safe_read(os.path.join(folder, f\"{student}_EYE.csv\"))\n",
    "    ivt  = safe_read(os.path.join(folder, f\"{student}_IVT.csv\"))\n",
    "    tiva = safe_read(os.path.join(folder, f\"{student}_TIVA.csv\"))\n",
    "    psy  = safe_read(os.path.join(folder, f\"{student}_PSY.csv\"))\n",
    "\n",
    "    if psy is None or \"Key\" not in psy.columns:\n",
    "        continue\n",
    "\n",
    "    for _, psy_row in psy.iterrows():\n",
    "        trial_key = psy_row[\"Key\"]\n",
    "\n",
    "        def subset(df):\n",
    "            if df is None: return None\n",
    "            if \"QuestionKey\" in df.columns and trial_key in df[\"QuestionKey\"].values:\n",
    "                return df[df[\"QuestionKey\"] == trial_key].copy()\n",
    "            return None\n",
    "\n",
    "        feats = {\"StudentID\": sid, \"TrialID\": trial_key}\n",
    "        feats.update(eeg_features(subset(eeg)))\n",
    "        feats.update(gsr_features(subset(gsr)))\n",
    "        feats.update(eye_features(subset(eye)))\n",
    "        feats.update(ivt_features(subset(ivt)))\n",
    "        feats.update(tiva_features(subset(tiva)))\n",
    "        feats.update(psy_features(pd.DataFrame([psy_row])))\n",
    "\n",
    "        rows.append(feats)\n",
    "\n",
    "# -----------------------------\n",
    "# Build final DataFrame\n",
    "# -----------------------------\n",
    "df_all = pd.DataFrame(rows)\n",
    "\n",
    "expected_cols = [\n",
    "    'StudentID','TrialID',\n",
    "    'EEG_Delta_mean','EEG_Delta_var',\n",
    "    'EEG_Theta_mean','EEG_Theta_var',\n",
    "    'EEG_Alpha_mean','EEG_Alpha_var',\n",
    "    'EEG_Beta_mean','EEG_Beta_var',\n",
    "    'EEG_Gamma_mean','EEG_Gamma_var',\n",
    "    'EEG_Theta_Alpha','EEG_Beta_Alpha',\n",
    "    'GSR_mean','GSR_std','GSR_slope','GSR_peaks',\n",
    "    'Pupil_mean','Pupil_std',\n",
    "    'GazeX_std','GazeY_std',\n",
    "    'fixation_count','fixation_duration_mean','fixation_duration_std','fixation_dispersion_mean',\n",
    "    'saccade_count','saccade_duration_mean','saccade_duration_std',\n",
    "    'saccade_amplitude_mean','saccade_amplitude_std',\n",
    "    'saccade_velocity_mean','saccade_velocity_std',\n",
    "    'TIVA_Engagement_mean','TIVA_Valence_mean','TIVA_Attention_mean',\n",
    "    'TIVA_Joy_mean','TIVA_Sadness_mean','TIVA_Anger_mean',\n",
    "    'TIVA_Fear_mean','TIVA_Surprise_mean','TIVA_Neutral_mean',\n",
    "    'Difficulty_mean','ResponseTime_mean','Label'\n",
    "]\n",
    "\n",
    "for c in expected_cols:\n",
    "    if c not in df_all.columns:\n",
    "        df_all[c] = 0\n",
    "\n",
    "df_all = df_all[expected_cols]\n",
    "\n",
    "# clean infinities / NaNs\n",
    "df_all.replace([np.inf, -np.inf], np.nan, inplace=True)\n",
    "df_all.fillna(0, inplace=True)\n",
    "\n",
    "# scale numeric features\n",
    "scaler = StandardScaler()\n",
    "num_cols = [c for c in df_all.columns if c not in [\"StudentID\",\"TrialID\",\"Label\"]]\n",
    "if len(df_all) > 0:\n",
    "    df_all[num_cols] = scaler.fit_transform(df_all[num_cols])\n",
    "\n",
    "# save\n",
    "df_all.to_csv(OUTPUT_FILE, index=False)\n",
    "print(\"✅ Saved\", OUTPUT_FILE, \"with shape\", df_all.shape)\n"
   ]
  },
  {
   "cell_type": "code",
   "execution_count": 6,
   "id": "74b692e0",
   "metadata": {},
   "outputs": [
    {
     "name": "stdout",
     "output_type": "stream",
     "text": [
      "Index(['StudentID', 'TrialID', 'EEG_Delta_mean', 'EEG_Delta_var',\n",
      "       'EEG_Theta_mean', 'EEG_Theta_var', 'EEG_Alpha_mean', 'EEG_Alpha_var',\n",
      "       'EEG_Beta_mean', 'EEG_Beta_var', 'EEG_Gamma_mean', 'EEG_Gamma_var',\n",
      "       'EEG_Theta_Alpha', 'EEG_Beta_Alpha', 'GSR_mean', 'GSR_std', 'GSR_slope',\n",
      "       'GSR_peaks', 'Pupil_mean', 'Pupil_std', 'GazeX_std', 'GazeY_std',\n",
      "       'fixation_count', 'fixation_duration_mean', 'fixation_duration_std',\n",
      "       'fixation_dispersion_mean', 'saccade_count', 'saccade_duration_mean',\n",
      "       'saccade_duration_std', 'saccade_amplitude_mean',\n",
      "       'saccade_amplitude_std', 'saccade_velocity_mean',\n",
      "       'saccade_velocity_std', 'TIVA_Engagement_mean', 'TIVA_Valence_mean',\n",
      "       'TIVA_Attention_mean', 'TIVA_Joy_mean', 'TIVA_Sadness_mean',\n",
      "       'TIVA_Anger_mean', 'TIVA_Fear_mean', 'TIVA_Surprise_mean',\n",
      "       'TIVA_Neutral_mean', 'Difficulty_mean', 'ResponseTime_mean', 'Label'],\n",
      "      dtype='object')\n"
     ]
    }
   ],
   "source": [
    "column_name = df_all.columns\n",
    "print(column_name)"
   ]
  },
  {
   "cell_type": "code",
   "execution_count": 7,
   "id": "52aa4d77",
   "metadata": {},
   "outputs": [],
   "source": [
    "from sklearn.decomposition import PCA"
   ]
  },
  {
   "cell_type": "code",
   "execution_count": 9,
   "id": "f516073b",
   "metadata": {},
   "outputs": [
    {
     "name": "stdout",
     "output_type": "stream",
     "text": [
      "Original features: 42\n",
      "PCA features: 21\n",
      "Variance explained: 95.21 %\n"
     ]
    }
   ],
   "source": [
    "# Separate identifiers and labels\n",
    "X = df_all.drop(columns=[\"StudentID\", \"TrialID\", \"Label\"])\n",
    "y = df_all[\"Label\"]\n",
    "\n",
    "\n",
    "# Z-score normalization\n",
    "scaler = StandardScaler()\n",
    "X_scaled = scaler.fit_transform(X)\n",
    "\n",
    "\n",
    "# PCA for Dimensionality Reduction\n",
    "pca = PCA(n_components=0.95, random_state=42)\n",
    "X_pca = pca.fit_transform(X_scaled)\n",
    "\n",
    "# Create PCA DataFrame\n",
    "df_pca = pd.DataFrame(X_pca, columns=[f\"PC{i+1}\" for i in range(X_pca.shape[1])])\n",
    "df_pca[\"StudentID\"] = df_all[\"StudentID\"].values\n",
    "df_pca[\"TrialID\"] = df_all[\"TrialID\"].values\n",
    "df_pca[\"Label\"] = y.values\n",
    "\n",
    "df_pca.to_csv(\"pca_dataset.csv\", index=False)\n",
    "\n",
    "print(\"Original features:\", X.shape[1])\n",
    "print(\"PCA features:\", X_pca.shape[1])\n",
    "print(\"Variance explained:\", round(sum(pca.explained_variance_ratio_)*100, 2), \"%\")"
   ]
  },
  {
   "cell_type": "markdown",
   "id": "f1f40b35",
   "metadata": {},
   "source": [
    "## Label Encoding + Per-Modality PCA"
   ]
  },
  {
   "cell_type": "code",
   "execution_count": 11,
   "id": "012253d2",
   "metadata": {},
   "outputs": [],
   "source": [
    "INPUT_FILE = r\"C:\\Users\\LENOVO\\Desktop\\ByteBuzz\\Data\\Processed_dataset.csv\"\n",
    "OUTPUT_FILE = r\"C:\\Users\\LENOVO\\Desktop\\ByteBuzz\\Data\\final_dataset.csv\"\n",
    "\n",
    "df = pd.read_csv(INPUT_FILE)\n"
   ]
  },
  {
   "cell_type": "markdown",
   "id": "44373362",
   "metadata": {},
   "source": [
    "## Split features by modality"
   ]
  },
  {
   "cell_type": "code",
   "execution_count": 12,
   "id": "5de10a95",
   "metadata": {},
   "outputs": [
    {
     "name": "stdout",
     "output_type": "stream",
     "text": [
      "Feature counts per modality:\n",
      "EEG: 12\n",
      "GSR: 4\n",
      "EYE: 4\n",
      "IVT: 11\n",
      "TIVA: 9\n"
     ]
    }
   ],
   "source": [
    "# Separate metadata + label\n",
    "meta = df[[\"StudentID\", \"TrialID\", \"Label\"]]\n",
    "features = df.drop(columns=[\"StudentID\", \"TrialID\", \"Label\"])\n",
    "\n",
    "modalities = {\n",
    "    \"EEG\": [c for c in features.columns if \"EEG\" in c],\n",
    "    \"GSR\": [c for c in features.columns if \"GSR\" in c],\n",
    "    \"EYE\": [c for c in features.columns if \"Pupil\" in c or \"Gaze\" in c],\n",
    "    \"IVT\": [c for c in features.columns if \"fixation\" in c or \"saccade\" in c],\n",
    "    \"TIVA\": [c for c in features.columns if \"TIVA\" in c]\n",
    "}\n",
    "\n",
    "print(\"Feature counts per modality:\")\n",
    "for m, cols in modalities.items():\n",
    "    print(f\"{m}: {len(cols)}\")\n",
    "    \n",
    "\n",
    "# 2. PCA per modality\n",
    "\n",
    "def pca_reduce(X, prefix, var_ratio=0.95):\n",
    "    scaler = StandardScaler()\n",
    "    X_scaled = scaler.fit_transform(X)\n",
    "    pca = PCA(n_components=var_ratio, random_state=42)\n",
    "    X_pca = pca.fit_transform(X_scaled)\n",
    "    cols = [f\"{prefix}_PC{i+1}\" for i in range(X_pca.shape[1])]\n",
    "    return pd.DataFrame(X_pca, columns=cols)\n",
    "\n",
    "df_pca_parts = []\n",
    "\n",
    "for mod, cols in modalities.items():\n",
    "    if len(cols) > 0:\n",
    "        df_pca_parts.append(pca_reduce(features[cols], mod))\n",
    "\n",
    "# Concatenate PCA outputs + meta\n",
    "df_final = pd.concat([meta] + df_pca_parts, axis=1)\n"
   ]
  },
  {
   "cell_type": "code",
   "execution_count": 13,
   "id": "862e3bd8",
   "metadata": {},
   "outputs": [
    {
     "name": "stdout",
     "output_type": "stream",
     "text": [
      "Shape: (1448, 28)\n",
      "Columns: Index(['StudentID', 'TrialID', 'Label', 'EEG_PC1', 'EEG_PC2', 'EEG_PC3',\n",
      "       'EEG_PC4', 'EEG_PC5', 'EEG_PC6', 'EEG_PC7', 'GSR_PC1', 'GSR_PC2',\n",
      "       'GSR_PC3', 'GSR_PC4', 'EYE_PC1'],\n",
      "      dtype='object') ...\n"
     ]
    }
   ],
   "source": [
    "df_final.to_csv(OUTPUT_FILE, index=False)\n",
    "\n",
    "print(\"Shape:\", df_final.shape)\n",
    "print(\"Columns:\", df_final.columns[:15], \"...\")"
   ]
  },
  {
   "cell_type": "code",
   "execution_count": null,
   "id": "94b600c8",
   "metadata": {},
   "outputs": [],
   "source": []
  }
 ],
 "metadata": {
  "kernelspec": {
   "display_name": "Python 3 (ipykernel)",
   "language": "python",
   "name": "python3"
  },
  "language_info": {
   "codemirror_mode": {
    "name": "ipython",
    "version": 3
   },
   "file_extension": ".py",
   "mimetype": "text/x-python",
   "name": "python",
   "nbconvert_exporter": "python",
   "pygments_lexer": "ipython3",
   "version": "3.11.5"
  }
 },
 "nbformat": 4,
 "nbformat_minor": 5
}
